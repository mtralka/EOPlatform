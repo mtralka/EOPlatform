{
 "cells": [
  {
   "cell_type": "code",
   "execution_count": 2,
   "metadata": {},
   "outputs": [
    {
     "ename": "ImportError",
     "evalue": "cannot import name 'Landsat8' from 'eoplatform' (c:\\Users\\mtral\\Documents\\GitHub\\EOPlatform\\eoplatform\\__init__.py)",
     "output_type": "error",
     "traceback": [
      "\u001b[1;31m---------------------------------------------------------------------------\u001b[0m",
      "\u001b[1;31mImportError\u001b[0m                               Traceback (most recent call last)",
      "\u001b[1;32m~\\AppData\\Local\\Temp/ipykernel_24568/3577861762.py\u001b[0m in \u001b[0;36m<module>\u001b[1;34m\u001b[0m\n\u001b[1;32m----> 1\u001b[1;33m \u001b[1;32mfrom\u001b[0m \u001b[0meoplatform\u001b[0m \u001b[1;32mimport\u001b[0m \u001b[0mLandsat8\u001b[0m\u001b[1;33m\u001b[0m\u001b[1;33m\u001b[0m\u001b[0m\n\u001b[0m",
      "\u001b[1;31mImportError\u001b[0m: cannot import name 'Landsat8' from 'eoplatform' (c:\\Users\\mtral\\Documents\\GitHub\\EOPlatform\\eoplatform\\__init__.py)"
     ]
    }
   ],
   "source": [
    "from eoplatform import Landsat8"
   ]
  }
 ],
 "metadata": {
  "interpreter": {
   "hash": "123f1204bd746550d22673876a59dc74b7bfd284e1064ceaa65a9435ba26b3b8"
  },
  "kernelspec": {
   "display_name": "Python 3.7.6 64-bit ('eoplatform-YA-4DARO-py3.7': poetry)",
   "name": "python3"
  },
  "language_info": {
   "codemirror_mode": {
    "name": "ipython",
    "version": 3
   },
   "file_extension": ".py",
   "mimetype": "text/x-python",
   "name": "python",
   "nbconvert_exporter": "python",
   "pygments_lexer": "ipython3",
   "version": "3.7.6"
  },
  "orig_nbformat": 4
 },
 "nbformat": 4,
 "nbformat_minor": 2
}
