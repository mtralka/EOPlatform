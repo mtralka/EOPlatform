{
 "cells": [
  {
   "cell_type": "code",
   "execution_count": 6,
   "metadata": {},
   "outputs": [],
   "source": [
    "platforms_path: Path = Path(\".\")"
   ]
  },
  {
   "cell_type": "code",
   "execution_count": 3,
   "metadata": {},
   "outputs": [
    {
     "data": {
      "text/html": [
       "<pre style=\"white-space:pre;overflow-x:auto;line-height:normal;font-family:Menlo,'DejaVu Sans Mono',consolas,'Courier New',monospace\">╭─────── <span style=\"color: #87875f; text-decoration-color: #87875f; font-weight: bold\">#4 - Red</span><span style=\"color: #87875f; text-decoration-color: #87875f\"> </span><span style=\"color: #87875f; text-decoration-color: #87875f; font-style: italic\">(RED)</span> ────────╮\n",
       "│      Sensor ┃ OLI             │\n",
       "│  Wavelength │ 0.630-0.680 um  │\n",
       "│  Resolution │ 30 m            │\n",
       "╰───────────────────────────────╯\n",
       "</pre>\n"
      ],
      "text/plain": [
       "╭─────── \u001b[1;38;5;101m#4 - Red\u001b[0m\u001b[38;5;101m \u001b[0m\u001b[3;38;5;101m(RED)\u001b[0m ────────╮\n",
       "│      Sensor ┃ OLI             │\n",
       "│  Wavelength │ 0.630-0.680 um  │\n",
       "│  Resolution │ 30 m            │\n",
       "╰───────────────────────────────╯\n"
      ]
     },
     "metadata": {},
     "output_type": "display_data"
    },
    {
     "ename": "TypeError",
     "evalue": "'NoneType' object is not callable",
     "output_type": "error",
     "traceback": [
      "\u001b[1;31m---------------------------------------------------------------------------\u001b[0m",
      "\u001b[1;31mTypeError\u001b[0m                                 Traceback (most recent call last)",
      "\u001b[1;32m~\\AppData\\Local\\Temp/ipykernel_7136/2838804575.py\u001b[0m in \u001b[0;36m<module>\u001b[1;34m\u001b[0m\n\u001b[1;32m----> 1\u001b[1;33m \u001b[0mLandsat8\u001b[0m\u001b[1;33m.\u001b[0m\u001b[0mbands\u001b[0m\u001b[1;33m.\u001b[0m\u001b[0mRED\u001b[0m\u001b[1;33m.\u001b[0m\u001b[0minfo\u001b[0m\u001b[1;33m(\u001b[0m\u001b[1;33m)\u001b[0m\u001b[1;33m\u001b[0m\u001b[1;33m\u001b[0m\u001b[0m\n\u001b[0m",
      "\u001b[1;31mTypeError\u001b[0m: 'NoneType' object is not callable"
     ]
    }
   ],
   "source": [
    "Landsat8.bands.RED.info()"
   ]
  },
  {
   "cell_type": "code",
   "execution_count": 4,
   "metadata": {},
   "outputs": [],
   "source": [
    "from eoplatform import Sentinel2\n"
   ]
  },
  {
   "cell_type": "code",
   "execution_count": 5,
   "metadata": {},
   "outputs": [
    {
     "data": {
      "text/html": [
       "<pre style=\"white-space:pre;overflow-x:auto;line-height:normal;font-family:Menlo,'DejaVu Sans Mono',consolas,'Courier New',monospace\">╭──────────────────────────────────── <span style=\"color: #87875f; text-decoration-color: #87875f; font-weight: bold\">🛰️ Sentinel 2</span><span style=\"color: #87875f; text-decoration-color: #87875f\"> </span><span style=\"color: #87875f; text-decoration-color: #87875f; font-style: italic\">(L8)</span> ────────────────────────────────────╮\n",
       "│                                    Operator ┃ NASA/USGS                                   │\n",
       "│             <span style=\"color: #7f7f7f; text-decoration-color: #7f7f7f\">                    Launch Date </span>│<span style=\"color: #7f7f7f; text-decoration-color: #7f7f7f\"> 02/11/2013                     </span>             │\n",
       "│                                      Regime │ Sun-synchronous orbit                       │\n",
       "│             <span style=\"color: #7f7f7f; text-decoration-color: #7f7f7f\">                     Orbit Time </span>│<span style=\"color: #7f7f7f; text-decoration-color: #7f7f7f\"> 99 minutes                     </span>             │\n",
       "│                                Revisit Time │ 16 days                                     │\n",
       "│             <span style=\"color: #7f7f7f; text-decoration-color: #7f7f7f\">                       Altitude </span>│<span style=\"color: #7f7f7f; text-decoration-color: #7f7f7f\"> 705 km                         </span>             │\n",
       "│                                  Scene Size │ (185,180) km                                │\n",
       "│ <span style=\"font-style: italic\">                                        11 Bands                                         </span> │\n",
       "│ ┏━━━━━━━━┳━━━━━━━━━━━━━━┳━━━━━━━━━━━━━━━━━━━┳━━━━━━━━━━━━━━━━┳━━━━━━━━━━━━━━━━━┳━━━━━━━━┓ │\n",
       "│ ┃<span style=\"font-weight: bold\"> Number </span>┃<span style=\"font-weight: bold\"> Abbreviation </span>┃<span style=\"font-weight: bold\"> Name              </span>┃<span style=\"font-weight: bold\"> Resolution (m) </span>┃<span style=\"font-weight: bold\"> Wavelength (um) </span>┃<span style=\"font-weight: bold\"> Sensor </span>┃ │\n",
       "│ ┡━━━━━━━━╇━━━━━━━━━━━━━━╇━━━━━━━━━━━━━━━━━━━╇━━━━━━━━━━━━━━━━╇━━━━━━━━━━━━━━━━━╇━━━━━━━━┩ │\n",
       "│ │<span style=\"color: #808000; text-decoration-color: #808000\">      1 </span>│<span style=\"color: #808000; text-decoration-color: #808000\"> CAER         </span>│<span style=\"color: #808000; text-decoration-color: #808000\"> Coastal Aerosol   </span>│<span style=\"color: #808000; text-decoration-color: #808000\">             30 </span>│<span style=\"color: #808000; text-decoration-color: #808000\">     0.433-0.453 </span>│<span style=\"color: #808000; text-decoration-color: #808000\">    OLI </span>│ │\n",
       "│ │<span style=\"color: #008080; text-decoration-color: #008080\">      2 </span>│<span style=\"color: #008080; text-decoration-color: #008080\"> BLUE         </span>│<span style=\"color: #008080; text-decoration-color: #008080\"> Blue              </span>│<span style=\"color: #008080; text-decoration-color: #008080\">             30 </span>│<span style=\"color: #008080; text-decoration-color: #008080\">     0.450-0.515 </span>│<span style=\"color: #008080; text-decoration-color: #008080\">    OLI </span>│ │\n",
       "│ │<span style=\"color: #808000; text-decoration-color: #808000\">      3 </span>│<span style=\"color: #808000; text-decoration-color: #808000\"> GREEN        </span>│<span style=\"color: #808000; text-decoration-color: #808000\"> Green             </span>│<span style=\"color: #808000; text-decoration-color: #808000\">             30 </span>│<span style=\"color: #808000; text-decoration-color: #808000\">     0.525-0.600 </span>│<span style=\"color: #808000; text-decoration-color: #808000\">    OLI </span>│ │\n",
       "│ │<span style=\"color: #008080; text-decoration-color: #008080\">      4 </span>│<span style=\"color: #008080; text-decoration-color: #008080\"> RED          </span>│<span style=\"color: #008080; text-decoration-color: #008080\"> Red               </span>│<span style=\"color: #008080; text-decoration-color: #008080\">             30 </span>│<span style=\"color: #008080; text-decoration-color: #008080\">     0.630-0.680 </span>│<span style=\"color: #008080; text-decoration-color: #008080\">    OLI </span>│ │\n",
       "│ │<span style=\"color: #808000; text-decoration-color: #808000\">      5 </span>│<span style=\"color: #808000; text-decoration-color: #808000\"> NIR          </span>│<span style=\"color: #808000; text-decoration-color: #808000\"> Near Infared      </span>│<span style=\"color: #808000; text-decoration-color: #808000\">             30 </span>│<span style=\"color: #808000; text-decoration-color: #808000\">     0.845-0.885 </span>│<span style=\"color: #808000; text-decoration-color: #808000\">    OLI </span>│ │\n",
       "│ │<span style=\"color: #008080; text-decoration-color: #008080\">      6 </span>│<span style=\"color: #008080; text-decoration-color: #008080\"> SWIR1        </span>│<span style=\"color: #008080; text-decoration-color: #008080\"> Short Wave        </span>│<span style=\"color: #008080; text-decoration-color: #008080\">             30 </span>│<span style=\"color: #008080; text-decoration-color: #008080\">     1.560-1.660 </span>│<span style=\"color: #008080; text-decoration-color: #008080\">    OLI </span>│ │\n",
       "│ │<span style=\"color: #008080; text-decoration-color: #008080\">        </span>│<span style=\"color: #008080; text-decoration-color: #008080\">              </span>│<span style=\"color: #008080; text-decoration-color: #008080\"> Infared 1         </span>│<span style=\"color: #008080; text-decoration-color: #008080\">                </span>│<span style=\"color: #008080; text-decoration-color: #008080\">                 </span>│<span style=\"color: #008080; text-decoration-color: #008080\">        </span>│ │\n",
       "│ │<span style=\"color: #808000; text-decoration-color: #808000\">      7 </span>│<span style=\"color: #808000; text-decoration-color: #808000\"> SWIR2        </span>│<span style=\"color: #808000; text-decoration-color: #808000\"> Short Wave        </span>│<span style=\"color: #808000; text-decoration-color: #808000\">             30 </span>│<span style=\"color: #808000; text-decoration-color: #808000\">     2.100-2.300 </span>│<span style=\"color: #808000; text-decoration-color: #808000\">    OLI </span>│ │\n",
       "│ │<span style=\"color: #808000; text-decoration-color: #808000\">        </span>│<span style=\"color: #808000; text-decoration-color: #808000\">              </span>│<span style=\"color: #808000; text-decoration-color: #808000\"> Infared 2         </span>│<span style=\"color: #808000; text-decoration-color: #808000\">                </span>│<span style=\"color: #808000; text-decoration-color: #808000\">                 </span>│<span style=\"color: #808000; text-decoration-color: #808000\">        </span>│ │\n",
       "│ │<span style=\"color: #008080; text-decoration-color: #008080\">      8 </span>│<span style=\"color: #008080; text-decoration-color: #008080\"> PAN          </span>│<span style=\"color: #008080; text-decoration-color: #008080\"> Panchromatic      </span>│<span style=\"color: #008080; text-decoration-color: #008080\">             15 </span>│<span style=\"color: #008080; text-decoration-color: #008080\">     0.500-0.680 </span>│<span style=\"color: #008080; text-decoration-color: #008080\">    OLI </span>│ │\n",
       "│ │<span style=\"color: #808000; text-decoration-color: #808000\">      9 </span>│<span style=\"color: #808000; text-decoration-color: #808000\"> CIRR         </span>│<span style=\"color: #808000; text-decoration-color: #808000\"> Cirrus            </span>│<span style=\"color: #808000; text-decoration-color: #808000\">             30 </span>│<span style=\"color: #808000; text-decoration-color: #808000\">     1.360-1.390 </span>│<span style=\"color: #808000; text-decoration-color: #808000\">    OLI </span>│ │\n",
       "│ │<span style=\"color: #008080; text-decoration-color: #008080\">     10 </span>│<span style=\"color: #008080; text-decoration-color: #008080\"> TIR1         </span>│<span style=\"color: #008080; text-decoration-color: #008080\"> Thermal Infared 1 </span>│<span style=\"color: #008080; text-decoration-color: #008080\">            100 </span>│<span style=\"color: #008080; text-decoration-color: #008080\">       10.6-11.2 </span>│<span style=\"color: #008080; text-decoration-color: #008080\">   TIRS </span>│ │\n",
       "│ │<span style=\"color: #808000; text-decoration-color: #808000\">     11 </span>│<span style=\"color: #808000; text-decoration-color: #808000\"> TIR2         </span>│<span style=\"color: #808000; text-decoration-color: #808000\"> Thermal Infared 2 </span>│<span style=\"color: #808000; text-decoration-color: #808000\">            100 </span>│<span style=\"color: #808000; text-decoration-color: #808000\">       11.5-12.5 </span>│<span style=\"color: #808000; text-decoration-color: #808000\">   TIRS </span>│ │\n",
       "│ └────────┴──────────────┴───────────────────┴────────────────┴─────────────────┴────────┘ │\n",
       "╰───────────────────────────────────────────────────────────────────────────────────────────╯\n",
       "</pre>\n"
      ],
      "text/plain": [
       "╭──────────────────────────────────── \u001b[1;38;5;101m🛰️ Sentinel 2\u001b[0m\u001b[38;5;101m \u001b[0m\u001b[3;38;5;101m(L8)\u001b[0m ────────────────────────────────────╮\n",
       "│                                    Operator ┃ NASA/USGS                                   │\n",
       "│             \u001b[2m \u001b[0m\u001b[2m                   Launch Date\u001b[0m\u001b[2m \u001b[0m│\u001b[2m \u001b[0m\u001b[2m02/11/2013                    \u001b[0m\u001b[2m \u001b[0m             │\n",
       "│                                      Regime │ Sun-synchronous orbit                       │\n",
       "│             \u001b[2m \u001b[0m\u001b[2m                    Orbit Time\u001b[0m\u001b[2m \u001b[0m│\u001b[2m \u001b[0m\u001b[2m99 minutes                    \u001b[0m\u001b[2m \u001b[0m             │\n",
       "│                                Revisit Time │ 16 days                                     │\n",
       "│             \u001b[2m \u001b[0m\u001b[2m                      Altitude\u001b[0m\u001b[2m \u001b[0m│\u001b[2m \u001b[0m\u001b[2m705 km                        \u001b[0m\u001b[2m \u001b[0m             │\n",
       "│                                  Scene Size │ (185,180) km                                │\n",
       "│ \u001b[3m                                        11 Bands                                         \u001b[0m │\n",
       "│ ┏━━━━━━━━┳━━━━━━━━━━━━━━┳━━━━━━━━━━━━━━━━━━━┳━━━━━━━━━━━━━━━━┳━━━━━━━━━━━━━━━━━┳━━━━━━━━┓ │\n",
       "│ ┃\u001b[1m \u001b[0m\u001b[1mNumber\u001b[0m\u001b[1m \u001b[0m┃\u001b[1m \u001b[0m\u001b[1mAbbreviation\u001b[0m\u001b[1m \u001b[0m┃\u001b[1m \u001b[0m\u001b[1mName             \u001b[0m\u001b[1m \u001b[0m┃\u001b[1m \u001b[0m\u001b[1mResolution (m)\u001b[0m\u001b[1m \u001b[0m┃\u001b[1m \u001b[0m\u001b[1mWavelength (um)\u001b[0m\u001b[1m \u001b[0m┃\u001b[1m \u001b[0m\u001b[1mSensor\u001b[0m\u001b[1m \u001b[0m┃ │\n",
       "│ ┡━━━━━━━━╇━━━━━━━━━━━━━━╇━━━━━━━━━━━━━━━━━━━╇━━━━━━━━━━━━━━━━╇━━━━━━━━━━━━━━━━━╇━━━━━━━━┩ │\n",
       "│ │\u001b[33m \u001b[0m\u001b[33m     1\u001b[0m\u001b[33m \u001b[0m│\u001b[33m \u001b[0m\u001b[33mCAER        \u001b[0m\u001b[33m \u001b[0m│\u001b[33m \u001b[0m\u001b[33mCoastal Aerosol  \u001b[0m\u001b[33m \u001b[0m│\u001b[33m \u001b[0m\u001b[33m            30\u001b[0m\u001b[33m \u001b[0m│\u001b[33m \u001b[0m\u001b[33m    0.433-0.453\u001b[0m\u001b[33m \u001b[0m│\u001b[33m \u001b[0m\u001b[33m   OLI\u001b[0m\u001b[33m \u001b[0m│ │\n",
       "│ │\u001b[36m \u001b[0m\u001b[36m     2\u001b[0m\u001b[36m \u001b[0m│\u001b[36m \u001b[0m\u001b[36mBLUE        \u001b[0m\u001b[36m \u001b[0m│\u001b[36m \u001b[0m\u001b[36mBlue             \u001b[0m\u001b[36m \u001b[0m│\u001b[36m \u001b[0m\u001b[36m            30\u001b[0m\u001b[36m \u001b[0m│\u001b[36m \u001b[0m\u001b[36m    0.450-0.515\u001b[0m\u001b[36m \u001b[0m│\u001b[36m \u001b[0m\u001b[36m   OLI\u001b[0m\u001b[36m \u001b[0m│ │\n",
       "│ │\u001b[33m \u001b[0m\u001b[33m     3\u001b[0m\u001b[33m \u001b[0m│\u001b[33m \u001b[0m\u001b[33mGREEN       \u001b[0m\u001b[33m \u001b[0m│\u001b[33m \u001b[0m\u001b[33mGreen            \u001b[0m\u001b[33m \u001b[0m│\u001b[33m \u001b[0m\u001b[33m            30\u001b[0m\u001b[33m \u001b[0m│\u001b[33m \u001b[0m\u001b[33m    0.525-0.600\u001b[0m\u001b[33m \u001b[0m│\u001b[33m \u001b[0m\u001b[33m   OLI\u001b[0m\u001b[33m \u001b[0m│ │\n",
       "│ │\u001b[36m \u001b[0m\u001b[36m     4\u001b[0m\u001b[36m \u001b[0m│\u001b[36m \u001b[0m\u001b[36mRED         \u001b[0m\u001b[36m \u001b[0m│\u001b[36m \u001b[0m\u001b[36mRed              \u001b[0m\u001b[36m \u001b[0m│\u001b[36m \u001b[0m\u001b[36m            30\u001b[0m\u001b[36m \u001b[0m│\u001b[36m \u001b[0m\u001b[36m    0.630-0.680\u001b[0m\u001b[36m \u001b[0m│\u001b[36m \u001b[0m\u001b[36m   OLI\u001b[0m\u001b[36m \u001b[0m│ │\n",
       "│ │\u001b[33m \u001b[0m\u001b[33m     5\u001b[0m\u001b[33m \u001b[0m│\u001b[33m \u001b[0m\u001b[33mNIR         \u001b[0m\u001b[33m \u001b[0m│\u001b[33m \u001b[0m\u001b[33mNear Infared     \u001b[0m\u001b[33m \u001b[0m│\u001b[33m \u001b[0m\u001b[33m            30\u001b[0m\u001b[33m \u001b[0m│\u001b[33m \u001b[0m\u001b[33m    0.845-0.885\u001b[0m\u001b[33m \u001b[0m│\u001b[33m \u001b[0m\u001b[33m   OLI\u001b[0m\u001b[33m \u001b[0m│ │\n",
       "│ │\u001b[36m \u001b[0m\u001b[36m     6\u001b[0m\u001b[36m \u001b[0m│\u001b[36m \u001b[0m\u001b[36mSWIR1       \u001b[0m\u001b[36m \u001b[0m│\u001b[36m \u001b[0m\u001b[36mShort Wave       \u001b[0m\u001b[36m \u001b[0m│\u001b[36m \u001b[0m\u001b[36m            30\u001b[0m\u001b[36m \u001b[0m│\u001b[36m \u001b[0m\u001b[36m    1.560-1.660\u001b[0m\u001b[36m \u001b[0m│\u001b[36m \u001b[0m\u001b[36m   OLI\u001b[0m\u001b[36m \u001b[0m│ │\n",
       "│ │\u001b[36m        \u001b[0m│\u001b[36m              \u001b[0m│\u001b[36m \u001b[0m\u001b[36mInfared 1        \u001b[0m\u001b[36m \u001b[0m│\u001b[36m                \u001b[0m│\u001b[36m                 \u001b[0m│\u001b[36m        \u001b[0m│ │\n",
       "│ │\u001b[33m \u001b[0m\u001b[33m     7\u001b[0m\u001b[33m \u001b[0m│\u001b[33m \u001b[0m\u001b[33mSWIR2       \u001b[0m\u001b[33m \u001b[0m│\u001b[33m \u001b[0m\u001b[33mShort Wave       \u001b[0m\u001b[33m \u001b[0m│\u001b[33m \u001b[0m\u001b[33m            30\u001b[0m\u001b[33m \u001b[0m│\u001b[33m \u001b[0m\u001b[33m    2.100-2.300\u001b[0m\u001b[33m \u001b[0m│\u001b[33m \u001b[0m\u001b[33m   OLI\u001b[0m\u001b[33m \u001b[0m│ │\n",
       "│ │\u001b[33m        \u001b[0m│\u001b[33m              \u001b[0m│\u001b[33m \u001b[0m\u001b[33mInfared 2        \u001b[0m\u001b[33m \u001b[0m│\u001b[33m                \u001b[0m│\u001b[33m                 \u001b[0m│\u001b[33m        \u001b[0m│ │\n",
       "│ │\u001b[36m \u001b[0m\u001b[36m     8\u001b[0m\u001b[36m \u001b[0m│\u001b[36m \u001b[0m\u001b[36mPAN         \u001b[0m\u001b[36m \u001b[0m│\u001b[36m \u001b[0m\u001b[36mPanchromatic     \u001b[0m\u001b[36m \u001b[0m│\u001b[36m \u001b[0m\u001b[36m            15\u001b[0m\u001b[36m \u001b[0m│\u001b[36m \u001b[0m\u001b[36m    0.500-0.680\u001b[0m\u001b[36m \u001b[0m│\u001b[36m \u001b[0m\u001b[36m   OLI\u001b[0m\u001b[36m \u001b[0m│ │\n",
       "│ │\u001b[33m \u001b[0m\u001b[33m     9\u001b[0m\u001b[33m \u001b[0m│\u001b[33m \u001b[0m\u001b[33mCIRR        \u001b[0m\u001b[33m \u001b[0m│\u001b[33m \u001b[0m\u001b[33mCirrus           \u001b[0m\u001b[33m \u001b[0m│\u001b[33m \u001b[0m\u001b[33m            30\u001b[0m\u001b[33m \u001b[0m│\u001b[33m \u001b[0m\u001b[33m    1.360-1.390\u001b[0m\u001b[33m \u001b[0m│\u001b[33m \u001b[0m\u001b[33m   OLI\u001b[0m\u001b[33m \u001b[0m│ │\n",
       "│ │\u001b[36m \u001b[0m\u001b[36m    10\u001b[0m\u001b[36m \u001b[0m│\u001b[36m \u001b[0m\u001b[36mTIR1        \u001b[0m\u001b[36m \u001b[0m│\u001b[36m \u001b[0m\u001b[36mThermal Infared 1\u001b[0m\u001b[36m \u001b[0m│\u001b[36m \u001b[0m\u001b[36m           100\u001b[0m\u001b[36m \u001b[0m│\u001b[36m \u001b[0m\u001b[36m      10.6-11.2\u001b[0m\u001b[36m \u001b[0m│\u001b[36m \u001b[0m\u001b[36m  TIRS\u001b[0m\u001b[36m \u001b[0m│ │\n",
       "│ │\u001b[33m \u001b[0m\u001b[33m    11\u001b[0m\u001b[33m \u001b[0m│\u001b[33m \u001b[0m\u001b[33mTIR2        \u001b[0m\u001b[33m \u001b[0m│\u001b[33m \u001b[0m\u001b[33mThermal Infared 2\u001b[0m\u001b[33m \u001b[0m│\u001b[33m \u001b[0m\u001b[33m           100\u001b[0m\u001b[33m \u001b[0m│\u001b[33m \u001b[0m\u001b[33m      11.5-12.5\u001b[0m\u001b[33m \u001b[0m│\u001b[33m \u001b[0m\u001b[33m  TIRS\u001b[0m\u001b[33m \u001b[0m│ │\n",
       "│ └────────┴──────────────┴───────────────────┴────────────────┴─────────────────┴────────┘ │\n",
       "╰───────────────────────────────────────────────────────────────────────────────────────────╯\n"
      ]
     },
     "metadata": {},
     "output_type": "display_data"
    }
   ],
   "source": [
    "Sentinel2.info()"
   ]
  },
  {
   "cell_type": "code",
   "execution_count": 7,
   "metadata": {},
   "outputs": [
    {
     "name": "stdout",
     "output_type": "stream",
     "text": [
      "[PosixPath('eoplatforms/platforms/Sentinel2.json'), PosixPath('eoplatforms/platforms/landsat8.json')]\n"
     ]
    },
    {
     "data": {
      "text/plain": [
       "dict_keys(['platforms_path', 'Sentinel2', 'Landsat8'])"
      ]
     },
     "execution_count": 7,
     "metadata": {},
     "output_type": "execute_result"
    }
   ],
   "source": [
    "from eoplatforms.main import EOPlatformFactory\n",
    "\n",
    "test = EOPlatformFactory()\n",
    "test.__dict__.keys()"
   ]
  },
  {
   "cell_type": "code",
   "execution_count": 4,
   "metadata": {},
   "outputs": [
    {
     "data": {
      "text/plain": [
       "'Landsat8'"
      ]
     },
     "execution_count": 4,
     "metadata": {},
     "output_type": "execute_result"
    }
   ],
   "source": [
    "import eoplatforms\n",
    "\n",
    "eoplatforms.v.short_name"
   ]
  },
  {
   "cell_type": "code",
   "execution_count": 4,
   "metadata": {},
   "outputs": [
    {
     "name": "stdout",
     "output_type": "stream",
     "text": [
      "eoplatforms/platforms/Sentinel2.json\n",
      "eoplatforms/platforms/landsat8.json\n"
     ]
    }
   ],
   "source": [
    "from pathlib import Path\n",
    "for file in Path(\"eoplatforms/platforms\").glob(\"*.json\"):\n",
    "    print(file)"
   ]
  },
  {
   "cell_type": "code",
   "execution_count": null,
   "metadata": {},
   "outputs": [],
   "source": [
    "from eoplatforms import Landsat8\n",
    "\n",
    "Landsat8.bands"
   ]
  }
 ],
 "metadata": {
  "interpreter": {
   "hash": "8bc889af6b5618e3f820e2c7a622ef87fe7f1344f4b08293ce9ca5878a4de180"
  },
  "kernelspec": {
   "display_name": "Python 3.7.6 64-bit ('eoplatforms-e6uG6Yqn-py3.7': poetry)",
   "name": "python3"
  },
  "language_info": {
   "codemirror_mode": {
    "name": "ipython",
    "version": 3
   },
   "file_extension": ".py",
   "mimetype": "text/x-python",
   "name": "python",
   "nbconvert_exporter": "python",
   "pygments_lexer": "ipython3",
   "version": "3.7.6"
  },
  "orig_nbformat": 4
 },
 "nbformat": 4,
 "nbformat_minor": 2
}
